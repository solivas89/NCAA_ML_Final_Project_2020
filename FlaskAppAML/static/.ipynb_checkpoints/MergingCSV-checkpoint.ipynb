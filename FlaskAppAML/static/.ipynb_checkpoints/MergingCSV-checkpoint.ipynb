{
 "cells": [
  {
   "cell_type": "code",
   "execution_count": 3,
   "metadata": {},
   "outputs": [],
   "source": [
    "# import os\n",
    "# import glob\n",
    "import pandas as pd\n",
    "# os.chdir(\"/Resources\")"
   ]
  },
  {
   "cell_type": "code",
   "execution_count": 2,
   "metadata": {},
   "outputs": [],
   "source": [
    "# extension = 'csv'\n",
    "# all_filenames = [i for i in glob.glob(f'*.{extension}')]"
   ]
  },
  {
   "cell_type": "code",
   "execution_count": 4,
   "metadata": {},
   "outputs": [],
   "source": [
    "# # combine all files in the list\n",
    "# NBA_combined = pd.concat([pd.read_csv(f) for f in all_filenames])\n",
    "\n",
    "# # export to csv\n",
    "# NBA_combined.to_csv(\"NBA.csv\", index=False)"
   ]
  },
  {
   "cell_type": "code",
   "execution_count": 10,
   "metadata": {},
   "outputs": [],
   "source": [
    "df2015 = pd.read_csv(\"Resources/2015 NCAA BB Stats.csv\")\n",
    "df2016 = pd.read_csv(\"Resources/2016 NCAA BB Stats.csv\")\n",
    "df2017 = pd.read_csv(\"Resources/2017 NCAA BB Stats.csv\")\n",
    "df2018 = pd.read_csv(\"Resources/2018 NCAA BB Stats.csv\")\n",
    "df2019 = pd.read_csv(\"Resources/2019 NCAA BB Stats.csv\")"
   ]
  },
  {
   "cell_type": "code",
   "execution_count": 11,
   "metadata": {},
   "outputs": [],
   "source": [
    "NBA_combined = df2015.merge(df2016, how='outer')\n",
    "NBA_combined = NBA_combined.merge(df2017, how='outer')\n",
    "NBA_combined = NBA_combined.merge(df2018, how='outer')\n",
    "NBA_combined = NBA_combined.merge(df2019, how='outer')"
   ]
  },
  {
   "cell_type": "code",
   "execution_count": 14,
   "metadata": {},
   "outputs": [],
   "source": [
    "NBA_combined = NBA_combined.dropna()"
   ]
  },
  {
   "cell_type": "code",
   "execution_count": 17,
   "metadata": {},
   "outputs": [
    {
     "data": {
      "text/plain": [
       "Player    11760\n",
       "Team      11760\n",
       "GP        11760\n",
       "MPG       11760\n",
       "FGM       11760\n",
       "FGA       11760\n",
       "FG%       11760\n",
       "3PM       11760\n",
       "3PA       11760\n",
       "3P%       11760\n",
       "FTM       11760\n",
       "FTA       11760\n",
       "FT%       11760\n",
       "TOV       11760\n",
       "PF        11760\n",
       "ORB       11760\n",
       "DRB       11760\n",
       "RPG       11760\n",
       "APG       11760\n",
       "SPG       11760\n",
       "BPG       11760\n",
       "PPG       11760\n",
       "dtype: int64"
      ]
     },
     "execution_count": 17,
     "metadata": {},
     "output_type": "execute_result"
    }
   ],
   "source": [
    "NBA_combined.count()"
   ]
  },
  {
   "cell_type": "code",
   "execution_count": 19,
   "metadata": {},
   "outputs": [],
   "source": [
    "# export to csv\n",
    "NBA_combined.to_csv(\"Resources/NBA.csv\", index=False)"
   ]
  },
  {
   "cell_type": "code",
   "execution_count": null,
   "metadata": {},
   "outputs": [],
   "source": []
  }
 ],
 "metadata": {
  "kernelspec": {
   "display_name": "Python 3",
   "language": "python",
   "name": "python3"
  },
  "language_info": {
   "codemirror_mode": {
    "name": "ipython",
    "version": 3
   },
   "file_extension": ".py",
   "mimetype": "text/x-python",
   "name": "python",
   "nbconvert_exporter": "python",
   "pygments_lexer": "ipython3",
   "version": "3.7.6"
  }
 },
 "nbformat": 4,
 "nbformat_minor": 4
}
