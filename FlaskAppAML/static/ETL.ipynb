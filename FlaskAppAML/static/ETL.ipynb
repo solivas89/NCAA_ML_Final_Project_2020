{
  "nbformat": 4,
  "nbformat_minor": 0,
  "metadata": {
    "colab": {
      "name": "ETL.ipynb",
      "provenance": [],
      "collapsed_sections": []
    },
    "kernelspec": {
      "name": "python3",
      "display_name": "Python 3"
    }
  },
  "cells": [
    {
      "cell_type": "code",
      "metadata": {
        "id": "GfqUrXjRZDxM",
        "outputId": "ec48e9aa-fa66-4705-f3a8-d61bf834da97",
        "colab": {
          "base_uri": "https://localhost:8080/"
        }
      },
      "source": [
        "import os\n",
        "# Find the latest version of spark 3.0  from http://www-us.apache.org/dist/spark/ and enter as the spark version\n",
        "# For example:\n",
        "spark_version = 'spark-3.0.1'\n",
        "# spark_version = 'spark-3.<enter version>'\n",
        "os.environ['SPARK_VERSION']=spark_version\n",
        "\n",
        "# Install Spark and Java\n",
        "!apt-get update\n",
        "!apt-get install openjdk-11-jdk-headless -qq > /dev/null\n",
        "!wget -q http://www-us.apache.org/dist/spark/$SPARK_VERSION/$SPARK_VERSION-bin-hadoop2.7.tgz\n",
        "!tar xf $SPARK_VERSION-bin-hadoop2.7.tgz\n",
        "!pip install -q findspark\n",
        "\n",
        "# Set Environment Variables\n",
        "os.environ[\"JAVA_HOME\"] = \"/usr/lib/jvm/java-11-openjdk-amd64\"\n",
        "os.environ[\"SPARK_HOME\"] = f\"/content/{spark_version}-bin-hadoop2.7\"\n",
        "\n",
        "# Start a SparkSession\n",
        "import findspark\n",
        "findspark.init()"
      ],
      "execution_count": 1,
      "outputs": [
        {
          "output_type": "stream",
          "text": [
            "\r0% [Working]\r            \rGet:1 https://cloud.r-project.org/bin/linux/ubuntu bionic-cran40/ InRelease [3,626 B]\n",
            "\r0% [Connecting to archive.ubuntu.com (91.189.88.142)] [Connecting to security.u\r0% [Connecting to archive.ubuntu.com (91.189.88.142)] [Connecting to security.u\r                                                                               \rIgn:2 https://developer.download.nvidia.com/compute/cuda/repos/ubuntu1804/x86_64  InRelease\n",
            "\r0% [Connecting to archive.ubuntu.com (91.189.88.142)] [Waiting for headers] [Co\r0% [1 InRelease gpgv 3,626 B] [Connecting to archive.ubuntu.com (91.189.88.142)\r                                                                               \rIgn:3 https://developer.download.nvidia.com/compute/machine-learning/repos/ubuntu1804/x86_64  InRelease\n",
            "\r0% [1 InRelease gpgv 3,626 B] [Connecting to archive.ubuntu.com (91.189.88.142)\r                                                                               \rGet:4 https://developer.download.nvidia.com/compute/cuda/repos/ubuntu1804/x86_64  Release [697 B]\n",
            "\r0% [1 InRelease gpgv 3,626 B] [Connecting to archive.ubuntu.com (91.189.88.142)\r                                                                               \rGet:5 https://developer.download.nvidia.com/compute/machine-learning/repos/ubuntu1804/x86_64  Release [564 B]\n",
            "\r0% [1 InRelease gpgv 3,626 B] [Connecting to archive.ubuntu.com (91.189.88.142)\r                                                                               \rGet:6 https://developer.download.nvidia.com/compute/cuda/repos/ubuntu1804/x86_64  Release.gpg [836 B]\n",
            "\r0% [1 InRelease gpgv 3,626 B] [Connecting to archive.ubuntu.com (91.189.88.142)\r0% [1 InRelease gpgv 3,626 B] [Connecting to archive.ubuntu.com (91.189.88.142)\r                                                                               \rGet:7 https://developer.download.nvidia.com/compute/machine-learning/repos/ubuntu1804/x86_64  Release.gpg [833 B]\n",
            "Get:8 http://security.ubuntu.com/ubuntu bionic-security InRelease [88.7 kB]\n",
            "Get:9 http://ppa.launchpad.net/c2d4u.team/c2d4u4.0+/ubuntu bionic InRelease [15.9 kB]\n",
            "Hit:10 http://archive.ubuntu.com/ubuntu bionic InRelease\n",
            "Get:11 http://archive.ubuntu.com/ubuntu bionic-updates InRelease [88.7 kB]\n",
            "Get:12 http://ppa.launchpad.net/graphics-drivers/ppa/ubuntu bionic InRelease [21.3 kB]\n",
            "Ign:13 https://developer.download.nvidia.com/compute/cuda/repos/ubuntu1804/x86_64  Packages\n",
            "Get:13 https://developer.download.nvidia.com/compute/cuda/repos/ubuntu1804/x86_64  Packages [407 kB]\n",
            "Get:14 http://archive.ubuntu.com/ubuntu bionic-backports InRelease [74.6 kB]\n",
            "Get:15 https://developer.download.nvidia.com/compute/machine-learning/repos/ubuntu1804/x86_64  Packages [58.5 kB]\n",
            "Get:16 http://ppa.launchpad.net/c2d4u.team/c2d4u4.0+/ubuntu bionic/main Sources [1,688 kB]\n",
            "Get:17 http://security.ubuntu.com/ubuntu bionic-security/multiverse amd64 Packages [15.8 kB]\n",
            "Get:18 http://security.ubuntu.com/ubuntu bionic-security/universe amd64 Packages [1,365 kB]\n",
            "Get:19 http://archive.ubuntu.com/ubuntu bionic-updates/universe amd64 Packages [2,129 kB]\n",
            "Get:20 http://security.ubuntu.com/ubuntu bionic-security/main amd64 Packages [1,781 kB]\n",
            "Get:21 http://security.ubuntu.com/ubuntu bionic-security/restricted amd64 Packages [222 kB]\n",
            "Get:22 http://archive.ubuntu.com/ubuntu bionic-updates/main amd64 Packages [2,198 kB]\n",
            "Get:23 http://archive.ubuntu.com/ubuntu bionic-updates/multiverse amd64 Packages [46.3 kB]\n",
            "Get:24 http://archive.ubuntu.com/ubuntu bionic-updates/restricted amd64 Packages [247 kB]\n",
            "Get:25 http://ppa.launchpad.net/c2d4u.team/c2d4u4.0+/ubuntu bionic/main amd64 Packages [864 kB]\n",
            "Get:26 http://ppa.launchpad.net/graphics-drivers/ppa/ubuntu bionic/main amd64 Packages [46.6 kB]\n",
            "Fetched 11.4 MB in 4s (3,136 kB/s)\n",
            "Reading package lists... Done\n"
          ],
          "name": "stdout"
        }
      ]
    },
    {
      "cell_type": "code",
      "metadata": {
        "id": "2X3OQPfUvGX9",
        "outputId": "171de347-7a75-4674-ff27-f93fa3be39c0",
        "colab": {
          "base_uri": "https://localhost:8080/"
        }
      },
      "source": [
        "!wget https://jdbc.postgresql.org/download/postgresql-42.2.9.jar"
      ],
      "execution_count": 2,
      "outputs": [
        {
          "output_type": "stream",
          "text": [
            "--2020-11-15 00:03:53--  https://jdbc.postgresql.org/download/postgresql-42.2.9.jar\n",
            "Resolving jdbc.postgresql.org (jdbc.postgresql.org)... 72.32.157.228, 2001:4800:3e1:1::228\n",
            "Connecting to jdbc.postgresql.org (jdbc.postgresql.org)|72.32.157.228|:443... connected.\n",
            "HTTP request sent, awaiting response... 200 OK\n",
            "Length: 914037 (893K) [application/java-archive]\n",
            "Saving to: ‘postgresql-42.2.9.jar’\n",
            "\n",
            "postgresql-42.2.9.j 100%[===================>] 892.61K  --.-KB/s    in 0.1s    \n",
            "\n",
            "2020-11-15 00:03:54 (8.54 MB/s) - ‘postgresql-42.2.9.jar’ saved [914037/914037]\n",
            "\n"
          ],
          "name": "stdout"
        }
      ]
    },
    {
      "cell_type": "code",
      "metadata": {
        "id": "iD4WphUqZF2L"
      },
      "source": [
        "from pyspark.sql import SparkSession\n",
        "spark = SparkSession.builder.appName(\"NCAA\").config(\"spark.driver.extraClassPath\",\"/content/postgresql-42.2.9.jar\").getOrCreate()"
      ],
      "execution_count": 3,
      "outputs": []
    },
    {
      "cell_type": "markdown",
      "metadata": {
        "id": "A_dg78ZuswA7"
      },
      "source": [
        "Extraction"
      ]
    },
    {
      "cell_type": "code",
      "metadata": {
        "id": "701kGYE3ZJo0"
      },
      "source": [
        "from pyspark import SparkFiles\n",
        "# Connecting to S3 for Basketball Stats\n",
        "url = \"https://ncaaproject.s3-us-west-1.amazonaws.com/NBA.csv\"\n",
        "spark.sparkContext.addFile(url)\n",
        "\n",
        "NBAstats = spark.read.option(\"header\", \"true\").csv(SparkFiles.get(\"NBA.csv\"), inferSchema=True, sep=\",\")\n",
        "# NBAstats.show(10)"
      ],
      "execution_count": null,
      "outputs": []
    },
    {
      "cell_type": "code",
      "metadata": {
        "id": "HpZNQIBxl0O3"
      },
      "source": [
        "NBAstats.count()"
      ],
      "execution_count": null,
      "outputs": []
    },
    {
      "cell_type": "code",
      "metadata": {
        "id": "qAfExIVrbwss"
      },
      "source": [
        "# Print our schema\n",
        "NBAstats.printSchema()"
      ],
      "execution_count": null,
      "outputs": []
    },
    {
      "cell_type": "code",
      "metadata": {
        "id": "-9Y_rUV3_r13"
      },
      "source": [
        "from pyspark import SparkFiles\n",
        "# Connecting to S3 for NBA draft data\n",
        "url = \"https://ncaaproject.s3-us-west-1.amazonaws.com/NBAdraft.csv\"\n",
        "spark.sparkContext.addFile(url)\n",
        "\n",
        "NBAdraft = spark.read.option(\"header\", \"true\").csv(SparkFiles.get(\"NBAdraft.csv\"), inferSchema=True, sep=\",\")\n",
        "# NBAdraft.show(10)"
      ],
      "execution_count": null,
      "outputs": []
    },
    {
      "cell_type": "code",
      "metadata": {
        "id": "Z0g1SRWnAAtH"
      },
      "source": [
        "NBAdraft.count()"
      ],
      "execution_count": null,
      "outputs": []
    },
    {
      "cell_type": "code",
      "metadata": {
        "id": "3pt6yp_6ADp_"
      },
      "source": [
        "# Print our schema\n",
        "NBAdraft.printSchema()"
      ],
      "execution_count": null,
      "outputs": []
    },
    {
      "cell_type": "code",
      "metadata": {
        "id": "KAdPQf4p_12X",
        "outputId": "90fb898c-5bc8-4959-d106-d9f9ac6395fe",
        "colab": {
          "base_uri": "https://localhost:8080/"
        }
      },
      "source": [
        "from pyspark import SparkFiles\n",
        "# Connecting to S3 for Football data\n",
        "url = \"https://ncaaproject.s3-us-west-1.amazonaws.com/Football.csv\"\n",
        "spark.sparkContext.addFile(url)\n",
        "\n",
        "Football = spark.read.option(\"header\", \"true\").csv(SparkFiles.get(\"Football.csv\"), inferSchema=True, sep=\",\")\n",
        "Football.show(10)"
      ],
      "execution_count": 12,
      "outputs": [
        {
          "output_type": "stream",
          "text": [
            "+---------+---+----+--------------------+----------------+-----------+--------+-------------+---------------------+----------+----------+------------+----------------+---------------+\n",
            "|DraftYear|Rnd|Pick|                Team|          Player|GradeFileID|Position|      College|CollegeBudgetFileName|Conference|  latitude|   longitude|ExpensesFootball|RevenueFootball|\n",
            "+---------+---+----+--------------------+----------------+-----------+--------+-------------+---------------------+----------+----------+------------+----------------+---------------+\n",
            "|     2015|  1|   1|Tampa Bay Buccaneers|  Jameis Winston|       9434|      QB|  Florida St.| Florida State Uni...|       ACC|30.4404775| -84.2908283|        68893857|       68893857|\n",
            "|     2015|  1|   2|    Tennessee Titans|  Marcus Mariota|       9435|      QB|       Oregon| University of Oregon|    Pac-12|44.0637862|-123.0787724|        33024841|       72146320|\n",
            "|     2015|  1|   3|Jacksonville Jaguars|    Dante Fowler|       9436|     OLB|      Florida| University of Flo...|       SEC|29.6494246| -82.3399209|        39149664|       84837920|\n",
            "|     2015|  1|   4|   Las Vegas Raiders|    Amari Cooper|       9437|      WR|      Alabama| The University of...|       SEC|33.2096093| -87.5466476|        69718059|       94604899|\n",
            "|     2015|  1|   5| Washington Redskins| Brandon Scherff|       9438|       T|         Iowa|   University of Iowa|   Big Ten| 41.661897| -91.5364924|        36838032|       81037375|\n",
            "|     2015|  1|   6|       New York Jets|Leonard Williams|       9439|      DE|          USC| University of Sou...|    Pac-12|34.0309703|-118.2789735|        32124522|       50046008|\n",
            "|     2015|  1|   7|       Chicago Bears|     Kevin White|       9440|      WR|West Virginia| West Virginia Uni...|    Big 12|39.6480359| -79.9697147|        22290035|       24692746|\n",
            "|     2015|  1|   8|     Atlanta Falcons|     Vic Beasley|       9441|     OLB|      Clemson|   Clemson University|       ACC| 34.679339|  -82.835136|        55649888|       61378516|\n",
            "|     2015|  1|   9|     New York Giants|   Ereck Flowers|       9442|       T|   Miami (FL)|  University of Miami|       ACC|25.7178924| -80.2746368|        56257383|       56257383|\n",
            "|     2015|  1|  10|    Los Angeles Rams|     Todd Gurley|       9443|      RB|      Georgia| University of Geo...|       SEC|33.9562553| -83.3740399|        49207808|      123073722|\n",
            "+---------+---+----+--------------------+----------------+-----------+--------+-------------+---------------------+----------+----------+------------+----------------+---------------+\n",
            "only showing top 10 rows\n",
            "\n"
          ],
          "name": "stdout"
        }
      ]
    },
    {
      "cell_type": "code",
      "metadata": {
        "id": "rcV8npZwAyIH",
        "outputId": "833f4291-ffd2-4f9f-f741-9c2c1d8e7f45",
        "colab": {
          "base_uri": "https://localhost:8080/"
        }
      },
      "source": [
        "Football.count()"
      ],
      "execution_count": 13,
      "outputs": [
        {
          "output_type": "execute_result",
          "data": {
            "text/plain": [
              "1528"
            ]
          },
          "metadata": {
            "tags": []
          },
          "execution_count": 13
        }
      ]
    },
    {
      "cell_type": "code",
      "metadata": {
        "id": "dJjAc706A0J6",
        "outputId": "2275c27a-fd47-402e-d7e5-829c772319af",
        "colab": {
          "base_uri": "https://localhost:8080/"
        }
      },
      "source": [
        "# Print our schema\n",
        "Football.printSchema()"
      ],
      "execution_count": 14,
      "outputs": [
        {
          "output_type": "stream",
          "text": [
            "root\n",
            " |-- DraftYear: integer (nullable = true)\n",
            " |-- Rnd: integer (nullable = true)\n",
            " |-- Pick: integer (nullable = true)\n",
            " |-- Team: string (nullable = true)\n",
            " |-- Player: string (nullable = true)\n",
            " |-- GradeFileID: string (nullable = true)\n",
            " |-- Position: string (nullable = true)\n",
            " |-- College: string (nullable = true)\n",
            " |-- CollegeBudgetFileName: string (nullable = true)\n",
            " |-- Conference: string (nullable = true)\n",
            " |-- latitude: double (nullable = true)\n",
            " |-- longitude: double (nullable = true)\n",
            " |-- ExpensesFootball: integer (nullable = true)\n",
            " |-- RevenueFootball: integer (nullable = true)\n",
            "\n"
          ],
          "name": "stdout"
        }
      ]
    },
    {
      "cell_type": "code",
      "metadata": {
        "id": "6sjVGZIJt9Db"
      },
      "source": [
        "from pyspark import SparkFiles\n",
        "# Connecting to S3 for School Data\n",
        "url = \"https://ncaaproject.s3-us-west-1.amazonaws.com/SchoolCleaned.csv\"\n",
        "spark.sparkContext.addFile(url)\n",
        "\n",
        "School_df = spark.read.option(\"header\", \"true\").csv(SparkFiles.get(\"SchoolCleaned.csv\"), inferSchema=True, sep=\",\")\n",
        "School_df.show(10)"
      ],
      "execution_count": null,
      "outputs": []
    },
    {
      "cell_type": "code",
      "metadata": {
        "id": "xlWxkN0uuSQR"
      },
      "source": [
        "School_df.count()"
      ],
      "execution_count": null,
      "outputs": []
    },
    {
      "cell_type": "code",
      "metadata": {
        "id": "8QRNDwiOuU-o"
      },
      "source": [
        "# Print our schema\n",
        "School_df.printSchema()"
      ],
      "execution_count": null,
      "outputs": []
    },
    {
      "cell_type": "code",
      "metadata": {
        "id": "sgup0-q2M_TM",
        "outputId": "f224c5b8-88c5-4860-8537-409ec7e4fb34",
        "colab": {
          "base_uri": "https://localhost:8080/"
        }
      },
      "source": [
        "from pyspark import SparkFiles\n",
        "# Connecting to S3 for all Basketball data\n",
        "url = \"https://ncaaproject.s3-us-west-1.amazonaws.com/Basketball.csv\"\n",
        "spark.sparkContext.addFile(url)\n",
        "\n",
        "Basketball = spark.read.option(\"header\", \"true\").csv(SparkFiles.get(\"Basketball.csv\"), inferSchema=True, sep=\",\")\n",
        "Basketball.show(10)"
      ],
      "execution_count": 4,
      "outputs": [
        {
          "output_type": "stream",
          "text": [
            "+------------------+------+---+----+---+----+------+-------+-------+---------+---+---+------+---+---+---+---+----+---+---+---+----+----+-------------+--------------------+--------------------+----------+------------+----------------------+---------------------+\n",
            "|            player|  team| gp| mpg|fgm| fga|fg_pct|threepm|threepa|three_pct|ftm|fta|ft_pct|tov| pf|orb|drb| rpg|apg|spg|bpg| ppg|pick|   conference|             college|   CollegeBudgetFile|  latitude|   longitude|ExpensesMensBasketball|RevenueMensBasketball|\n",
            "+------------------+------+---+----+---+----+------+-------+-------+---------+---+---+------+---+---+---+---+----+---+---+---+----+----+-------------+--------------------+--------------------+----------+------------+----------------------+---------------------+\n",
            "|       Chuma Okeke|    AU| 38|29.1|4.4| 8.9| 0.496|    1.4|    3.7|    0.387|1.7|2.4| 0.722|1.7|1.9|2.8|4.1| 6.8|1.9|1.8|1.2|12.0|  16|          SEC|              Auburn|   Auburn University|32.5909562| -85.4929785|              47846261|             95157216|\n",
            "|   Jerome Robinson|    BC| 35|36.0|7.1|14.7| 0.485|    2.3|    5.7|    0.409|4.2|5.0|  0.83|2.7|2.5|0.5|3.1| 3.6|3.3|0.9|0.1|20.7|  13|          ACC|      Boston College|      Boston College|42.3355488| -71.1684945|              24855252|             32347820|\n",
            "|    Olivier Hanlan|    BC| 32|37.6|7.0|15.5| 0.454|    2.0|    5.8|    0.353|3.4|4.5| 0.759|2.7|2.1|0.8|3.5| 4.2|4.2|1.3|0.0|19.5|  42|          ACC|      Boston College|      Boston College|42.3355488| -71.1684945|              24855252|             32347820|\n",
            "|     Dylan Windler|   BEL| 33|33.2|7.4|13.6|  0.54|    3.0|    7.1|    0.429|3.5|4.2| 0.847|2.1|2.1|1.9|8.9|10.8|2.5|1.4|0.6|21.3|  26|  Ohio Valley|             Belmont|  Belmont University|36.1336191| -86.7939242|                     0|                    0|\n",
            "|    Richaun Holmes|  BGSU| 31|28.8|5.3| 9.5| 0.563|    0.6|    1.4|    0.419|3.5|4.9| 0.712|1.9|2.5|2.8|5.2| 8.0|0.8|0.7|2.7|14.7|  37| Mid-American|       Bowling Green|Bowling Green Sta...|41.3754425|  -83.640953|               7750248|              7750248|\n",
            "|Chandler Hutchison|   BSU| 31|31.0|6.6|13.9| 0.475|    1.5|    4.1|    0.359|5.3|7.2| 0.728|3.4|2.4|0.9|6.8| 7.7|3.5|1.5|0.3|20.0|  22|Mountain West|         Boise State|Boise State Unive...| 43.609316|-116.2108121|              14600947|             20281713|\n",
            "|  Jarrell Brantley|C of C| 33|33.9|7.2|13.9| 0.517|    1.2|    3.5|    0.328|3.9|4.9| 0.785|2.6|2.7|1.7|6.7| 8.4|2.4|1.4|0.9|19.4|  50|     Colonial|College of Charle...|College of Charle...|32.7834631| -79.9372833|                     0|                    0|\n",
            "|         Ivan Rabb|   Cal| 31|32.6|4.9|10.1| 0.484|    0.3|    0.6|      0.4|4.0|6.0| 0.663|2.2|3.1|3.0|7.4|10.5|1.5|0.7|1.0|14.0|  35|       PAC-12|          California|University of Cal...|37.8718399|-122.2603363|              27790118|             33532252|\n",
            "|       Jabari Bird|   Cal| 27|32.0|5.2|11.8| 0.439|    2.4|    6.6|    0.363|1.6|2.0| 0.764|1.9|1.9|1.0|3.7| 4.7|1.0|0.7|0.2|14.3|  56|       PAC-12|          California|University of Cal...|37.8718399|-122.2603363|              27790118|             33532252|\n",
            "|      Jaylen Brown|   Cal| 34|27.6|4.8|11.1| 0.431|    0.9|    3.0|    0.294|4.2|6.4| 0.654|3.1|3.2|1.1|4.3| 5.4|2.0|0.8|0.6|14.6|   3|       PAC-12|          California|University of Cal...|37.8718399|-122.2603363|              27790118|             33532252|\n",
            "+------------------+------+---+----+---+----+------+-------+-------+---------+---+---+------+---+---+---+---+----+---+---+---+----+----+-------------+--------------------+--------------------+----------+------------+----------------------+---------------------+\n",
            "only showing top 10 rows\n",
            "\n"
          ],
          "name": "stdout"
        }
      ]
    },
    {
      "cell_type": "code",
      "metadata": {
        "id": "52YpSfAkNl1o",
        "outputId": "6aab5bd2-0622-47e5-8744-53f56c5b8f7a",
        "colab": {
          "base_uri": "https://localhost:8080/"
        }
      },
      "source": [
        "Basketball.count()"
      ],
      "execution_count": 5,
      "outputs": [
        {
          "output_type": "execute_result",
          "data": {
            "text/plain": [
              "212"
            ]
          },
          "metadata": {
            "tags": []
          },
          "execution_count": 5
        }
      ]
    },
    {
      "cell_type": "code",
      "metadata": {
        "id": "neWdOO9ENpA9",
        "outputId": "6df70b77-2a74-414d-90b7-a770c3572315",
        "colab": {
          "base_uri": "https://localhost:8080/"
        }
      },
      "source": [
        "Basketball.printSchema()"
      ],
      "execution_count": 6,
      "outputs": [
        {
          "output_type": "stream",
          "text": [
            "root\n",
            " |-- player: string (nullable = true)\n",
            " |-- team: string (nullable = true)\n",
            " |-- gp: integer (nullable = true)\n",
            " |-- mpg: double (nullable = true)\n",
            " |-- fgm: double (nullable = true)\n",
            " |-- fga: double (nullable = true)\n",
            " |-- fg_pct: double (nullable = true)\n",
            " |-- threepm: double (nullable = true)\n",
            " |-- threepa: double (nullable = true)\n",
            " |-- three_pct: double (nullable = true)\n",
            " |-- ftm: double (nullable = true)\n",
            " |-- fta: double (nullable = true)\n",
            " |-- ft_pct: double (nullable = true)\n",
            " |-- tov: double (nullable = true)\n",
            " |-- pf: double (nullable = true)\n",
            " |-- orb: double (nullable = true)\n",
            " |-- drb: double (nullable = true)\n",
            " |-- rpg: double (nullable = true)\n",
            " |-- apg: double (nullable = true)\n",
            " |-- spg: double (nullable = true)\n",
            " |-- bpg: double (nullable = true)\n",
            " |-- ppg: double (nullable = true)\n",
            " |-- pick: integer (nullable = true)\n",
            " |-- conference: string (nullable = true)\n",
            " |-- college: string (nullable = true)\n",
            " |-- CollegeBudgetFile: string (nullable = true)\n",
            " |-- latitude: double (nullable = true)\n",
            " |-- longitude: double (nullable = true)\n",
            " |-- ExpensesMensBasketball: integer (nullable = true)\n",
            " |-- RevenueMensBasketball: integer (nullable = true)\n",
            "\n"
          ],
          "name": "stdout"
        }
      ]
    },
    {
      "cell_type": "markdown",
      "metadata": {
        "id": "Mig4jLXfuZy_"
      },
      "source": [
        "**Transformation**"
      ]
    },
    {
      "cell_type": "code",
      "metadata": {
        "id": "6oCJKQxvAR2F"
      },
      "source": [
        "pdf = NBAstats.toPandas()\n",
        "df_dedupe = pdf.rename(columns={'FG%':'FG_pct', '3PM':'ThreePM',\n",
        "                                '3PA':'ThreePA', '3P%':'Three_pct',\n",
        "                                'FT%':'FT_pct'}).drop_duplicates(subset=['Player'], keep='last').round(3)\n",
        "NBAstats = spark.createDataFrame(df_dedupe)\n",
        "NBAstats.show()"
      ],
      "execution_count": null,
      "outputs": []
    },
    {
      "cell_type": "code",
      "metadata": {
        "id": "Ctzve5b952m8"
      },
      "source": [
        "NBAstats.count()"
      ],
      "execution_count": null,
      "outputs": []
    },
    {
      "cell_type": "code",
      "metadata": {
        "id": "25diEyl-EbOQ"
      },
      "source": [
        "pdf = NBAdraft.toPandas()\n",
        "df_dedupe = pdf.rename(columns={'Pk':'Pick','Player':'Name'}).drop_duplicates(subset=['Name'], keep='last')\n",
        "NBAdraft = spark.createDataFrame(df_dedupe)\n",
        "NBAdraft.show()"
      ],
      "execution_count": null,
      "outputs": []
    },
    {
      "cell_type": "code",
      "metadata": {
        "id": "4ROT5evk2usQ"
      },
      "source": [
        "NBAdraft.count()"
      ],
      "execution_count": null,
      "outputs": []
    },
    {
      "cell_type": "code",
      "metadata": {
        "id": "zILvGbpDRHds",
        "outputId": "8cab65de-3ce0-4b54-e330-47161137ea40",
        "colab": {
          "base_uri": "https://localhost:8080/"
        }
      },
      "source": [
        "pdf = Football.toPandas()\n",
        "df_dedupe = pdf.rename(columns={'ExpensesFootball':'Expense','RevenueFootball':'Revenue'}).drop_duplicates(subset=['Player'], keep='last')\n",
        "Football = spark.createDataFrame(df_dedupe)\n",
        "Football.show()"
      ],
      "execution_count": 15,
      "outputs": [
        {
          "output_type": "stream",
          "text": [
            "+---------+---+----+--------------------+----------------+-----------+--------+-------------+---------------------+----------+----------+------------+--------+---------+\n",
            "|DraftYear|Rnd|Pick|                Team|          Player|GradeFileID|Position|      College|CollegeBudgetFileName|Conference|  latitude|   longitude| Expense|  Revenue|\n",
            "+---------+---+----+--------------------+----------------+-----------+--------+-------------+---------------------+----------+----------+------------+--------+---------+\n",
            "|     2015|  1|   1|Tampa Bay Buccaneers|  Jameis Winston|       9434|      QB|  Florida St.| Florida State Uni...|       ACC|30.4404775| -84.2908283|68893857| 68893857|\n",
            "|     2015|  1|   2|    Tennessee Titans|  Marcus Mariota|       9435|      QB|       Oregon| University of Oregon|    Pac-12|44.0637862|-123.0787724|33024841| 72146320|\n",
            "|     2015|  1|   3|Jacksonville Jaguars|    Dante Fowler|       9436|     OLB|      Florida| University of Flo...|       SEC|29.6494246| -82.3399209|39149664| 84837920|\n",
            "|     2015|  1|   4|   Las Vegas Raiders|    Amari Cooper|       9437|      WR|      Alabama| The University of...|       SEC|33.2096093| -87.5466476|69718059| 94604899|\n",
            "|     2015|  1|   5| Washington Redskins| Brandon Scherff|       9438|       T|         Iowa|   University of Iowa|   Big Ten| 41.661897| -91.5364924|36838032| 81037375|\n",
            "|     2015|  1|   6|       New York Jets|Leonard Williams|       9439|      DE|          USC| University of Sou...|    Pac-12|34.0309703|-118.2789735|32124522| 50046008|\n",
            "|     2015|  1|   7|       Chicago Bears|     Kevin White|       9440|      WR|West Virginia| West Virginia Uni...|    Big 12|39.6480359| -79.9697147|22290035| 24692746|\n",
            "|     2015|  1|   8|     Atlanta Falcons|     Vic Beasley|       9441|     OLB|      Clemson|   Clemson University|       ACC| 34.679339|  -82.835136|55649888| 61378516|\n",
            "|     2015|  1|   9|     New York Giants|   Ereck Flowers|       9442|       T|   Miami (FL)|  University of Miami|       ACC|25.7178924| -80.2746368|56257383| 56257383|\n",
            "|     2015|  1|  10|    Los Angeles Rams|     Todd Gurley|       9443|      RB|      Georgia| University of Geo...|       SEC|33.9562553| -83.3740399|49207808|123073722|\n",
            "|     2015|  1|  11|   Minnesota Vikings|     Trae Waynes|       9444|      CB| Michigan St.| Michigan State Un...|   Big Ten|42.7296495| -84.4815268|33928232| 75545976|\n",
            "|     2015|  1|  12|    Cleveland Browns|   Danny Shelton|       9445|      NT|   Washington| University of Was...|    Pac-12|47.6565538|-122.3127075|40474139| 84041770|\n",
            "|     2015|  1|  13|  New Orleans Saints|     Andrus Peat|       9446|       T|     Stanford|  Stanford University|    Pac-12|37.4400665|-122.1696059|30470121| 44462092|\n",
            "|     2015|  1|  14|      Miami Dolphins|  DeVante Parker|       9447|      WR|   Louisville| University of Lou...|       ACC|38.2157954| -85.7614322|44057106| 47327709|\n",
            "|     2015|  1|  15|Los Angeles Chargers|   Melvin Gordon|       9448|      RB|    Wisconsin| University of Wis...|   Big Ten| 43.075486| -89.4043511|31714090| 89944636|\n",
            "|     2015|  1|  16|      Houston Texans|   Kevin Johnson|       9449|      CB|  Wake Forest| Wake Forest Unive...|       ACC|36.1348359| -80.2708623|21462286| 26722457|\n",
            "|     2015|  1|  17| San Francisco 49ers|   Arik Armstead|       9450|      DT|       Oregon| University of Oregon|    Pac-12|44.0637862|-123.0787724|33024841| 72146320|\n",
            "|     2015|  1|  18|  Kansas City Chiefs|   Marcus Peters|       9451|      CB|   Washington| University of Was...|    Pac-12|47.6565538|-122.3127075|40474139| 84041770|\n",
            "|     2015|  1|  19|    Cleveland Browns|  Cameron Erving|       9452|       C|  Florida St.| Florida State Uni...|       ACC|30.4404775| -84.2908283|68893857| 68893857|\n",
            "|     2015|  1|  20| Philadelphia Eagles|  Nelson Agholor|       9453|      WR|          USC| University of Sou...|    Pac-12|34.0309703|-118.2789735|32124522| 50046008|\n",
            "+---------+---+----+--------------------+----------------+-----------+--------+-------------+---------------------+----------+----------+------------+--------+---------+\n",
            "only showing top 20 rows\n",
            "\n"
          ],
          "name": "stdout"
        }
      ]
    },
    {
      "cell_type": "code",
      "metadata": {
        "id": "jcRUWvoyPYgU",
        "outputId": "28401780-5fea-4b15-eb02-f32241000fe5",
        "colab": {
          "base_uri": "https://localhost:8080/"
        }
      },
      "source": [
        "pdf = Basketball.toPandas()\n",
        "df_dedupe = pdf.rename(columns={'ExpensesMensBasketball':'Expense','RevenueMensBasketball':'Revenue'}).drop_duplicates(subset=['player'], keep='last')\n",
        "Basketball = spark.createDataFrame(df_dedupe)\n",
        "Basketball.show()"
      ],
      "execution_count": 8,
      "outputs": [
        {
          "output_type": "stream",
          "text": [
            "+--------------------+------+---+----+---+----+------+-------+-------+---------+---+---+------+---+---+---+---+----+---+---+---+----+----+-------------+--------------------+--------------------+----------+------------+--------+--------+\n",
            "|              player|  team| gp| mpg|fgm| fga|fg_pct|threepm|threepa|three_pct|ftm|fta|ft_pct|tov| pf|orb|drb| rpg|apg|spg|bpg| ppg|pick|   conference|             college|   CollegeBudgetFile|  latitude|   longitude| Expense| Revenue|\n",
            "+--------------------+------+---+----+---+----+------+-------+-------+---------+---+---+------+---+---+---+---+----+---+---+---+----+----+-------------+--------------------+--------------------+----------+------------+--------+--------+\n",
            "|         Chuma Okeke|    AU| 38|29.1|4.4| 8.9| 0.496|    1.4|    3.7|    0.387|1.7|2.4| 0.722|1.7|1.9|2.8|4.1| 6.8|1.9|1.8|1.2|12.0|  16|          SEC|              Auburn|   Auburn University|32.5909562| -85.4929785|47846261|95157216|\n",
            "|     Jerome Robinson|    BC| 35|36.0|7.1|14.7| 0.485|    2.3|    5.7|    0.409|4.2|5.0|  0.83|2.7|2.5|0.5|3.1| 3.6|3.3|0.9|0.1|20.7|  13|          ACC|      Boston College|      Boston College|42.3355488| -71.1684945|24855252|32347820|\n",
            "|      Olivier Hanlan|    BC| 32|37.6|7.0|15.5| 0.454|    2.0|    5.8|    0.353|3.4|4.5| 0.759|2.7|2.1|0.8|3.5| 4.2|4.2|1.3|0.0|19.5|  42|          ACC|      Boston College|      Boston College|42.3355488| -71.1684945|24855252|32347820|\n",
            "|       Dylan Windler|   BEL| 33|33.2|7.4|13.6|  0.54|    3.0|    7.1|    0.429|3.5|4.2| 0.847|2.1|2.1|1.9|8.9|10.8|2.5|1.4|0.6|21.3|  26|  Ohio Valley|             Belmont|  Belmont University|36.1336191| -86.7939242|       0|       0|\n",
            "|      Richaun Holmes|  BGSU| 31|28.8|5.3| 9.5| 0.563|    0.6|    1.4|    0.419|3.5|4.9| 0.712|1.9|2.5|2.8|5.2| 8.0|0.8|0.7|2.7|14.7|  37| Mid-American|       Bowling Green|Bowling Green Sta...|41.3754425|  -83.640953| 7750248| 7750248|\n",
            "|  Chandler Hutchison|   BSU| 31|31.0|6.6|13.9| 0.475|    1.5|    4.1|    0.359|5.3|7.2| 0.728|3.4|2.4|0.9|6.8| 7.7|3.5|1.5|0.3|20.0|  22|Mountain West|         Boise State|Boise State Unive...| 43.609316|-116.2108121|14600947|20281713|\n",
            "|    Jarrell Brantley|C of C| 33|33.9|7.2|13.9| 0.517|    1.2|    3.5|    0.328|3.9|4.9| 0.785|2.6|2.7|1.7|6.7| 8.4|2.4|1.4|0.9|19.4|  50|     Colonial|College of Charle...|College of Charle...|32.7834631| -79.9372833|       0|       0|\n",
            "|           Ivan Rabb|   Cal| 31|32.6|4.9|10.1| 0.484|    0.3|    0.6|      0.4|4.0|6.0| 0.663|2.2|3.1|3.0|7.4|10.5|1.5|0.7|1.0|14.0|  35|       PAC-12|          California|University of Cal...|37.8718399|-122.2603363|27790118|33532252|\n",
            "|         Jabari Bird|   Cal| 27|32.0|5.2|11.8| 0.439|    2.4|    6.6|    0.363|1.6|2.0| 0.764|1.9|1.9|1.0|3.7| 4.7|1.0|0.7|0.2|14.3|  56|       PAC-12|          California|University of Cal...|37.8718399|-122.2603363|27790118|33532252|\n",
            "|        Jaylen Brown|   Cal| 34|27.6|4.8|11.1| 0.431|    0.9|    3.0|    0.294|4.2|6.4| 0.654|3.1|3.2|1.1|4.3| 5.4|2.0|0.8|0.6|14.6|   3|       PAC-12|          California|University of Cal...|37.8718399|-122.2603363|27790118|33532252|\n",
            "|      Tyrone Wallace|   Cal| 28|32.2|5.4|12.2| 0.442|    0.9|    3.0|    0.298|3.6|5.5| 0.649|2.6|2.2|1.0|4.3| 5.3|4.4|1.0|0.4|15.2|  60|       PAC-12|          California|University of Cal...|37.8718399|-122.2603363|27790118|33532252|\n",
            "|   Jaron Blossomgame|  CLEM| 33|34.3|6.7|13.4| 0.499|    0.7|    2.8|    0.255|3.6|5.1| 0.714|1.7|1.6|1.8|4.5| 6.3|1.5|0.8|0.9|17.7|  59|          ACC|             Clemson|  Clemson University| 34.679339|  -82.835136|55649888|61378516|\n",
            "|       Derrick White|    CU| 34|32.8|6.0|11.9| 0.507|    1.7|    4.2|    0.396|4.4|5.4| 0.813|2.4|2.1|1.0|3.1| 4.1|4.4|1.2|1.4|18.1|  29|       PAC-12|            Colorado|University of Col...|40.0034965|-105.2677112|29642881|43461696|\n",
            "|         George King|    CU| 32|28.5|4.4|10.0| 0.445|    1.9|    4.9|    0.395|2.1|2.7| 0.782|2.0|2.4|1.8|6.1| 7.8|1.1|0.5|0.7|12.9|  59|       PAC-12|            Colorado|University of Col...|40.0034965|-105.2677112|29642881|43461696|\n",
            "|       Justin Patton|    CU| 35|25.3|5.7| 8.5| 0.676|    0.2|    0.4|    0.533|1.3|2.5| 0.517|1.7|2.7|1.7|4.5| 6.2|1.2|0.9|1.4|12.9|  16|     Big East|           Creighton|Creighton University|41.2655878| -95.9486026|       0|       0|\n",
            "|        Khyri Thomas|    CU| 33|31.7|5.6|10.4| 0.538|    1.9|    4.6|    0.411|2.0|2.6| 0.788|1.8|1.9|1.1|3.3| 4.4|2.8|1.7|0.2|15.1|  38|     Big East|           Creighton|Creighton University|41.2655878| -95.9486026|       0|       0|\n",
            "|Kostas Antetokounmpo|   DAY| 29|15.1|2.0| 3.5| 0.574|    0.1|    0.5|    0.133|1.1|2.2| 0.516|1.3|2.3|0.8|2.0| 2.9|0.4|0.2|1.1| 5.2|  60|  Atlantic 10|              Dayton|University of Dayton|39.7394599| -84.1799547| 1412930|  159593|\n",
            "|      Brandon Ingram|  DUKE| 36|34.6|5.9|13.4| 0.442|    2.2|    5.4|     0.41|3.2|4.7| 0.682|2.0|2.1|1.9|4.9| 6.8|2.0|1.1|1.4|17.3|   2|          ACC|                Duke|     Duke University|36.0014258| -78.9382286|28806459|40328603|\n",
            "|         Cam Reddish|  DUKE| 36|29.7|4.3|12.0| 0.356|    2.5|    7.4|    0.333|2.4|3.2| 0.772|2.7|2.4|0.6|3.1| 3.7|1.9|1.6|0.6|13.5|  10|          ACC|                Duke|     Duke University|36.0014258| -78.9382286|28806459|40328603|\n",
            "|       Frank Jackson|  DUKE| 36|24.9|3.7| 7.8| 0.473|    1.4|    3.6|    0.395|2.1|2.8| 0.755|1.4|2.4|0.6|1.9| 2.5|1.7|0.6|0.1|10.9|  31|          ACC|                Duke|     Duke University|36.0014258| -78.9382286|28806459|40328603|\n",
            "+--------------------+------+---+----+---+----+------+-------+-------+---------+---+---+------+---+---+---+---+----+---+---+---+----+----+-------------+--------------------+--------------------+----------+------------+--------+--------+\n",
            "only showing top 20 rows\n",
            "\n"
          ],
          "name": "stdout"
        }
      ]
    },
    {
      "cell_type": "code",
      "metadata": {
        "id": "QwYTHibauZPC"
      },
      "source": [
        "School_df = School_df.withColumnRenamed(\"REV_MEN\", \"Revenue\")\n",
        "School_df = School_df.withColumnRenamed(\"EXP_MEN\", \"Expense\")\n",
        "School_df.show()"
      ],
      "execution_count": null,
      "outputs": []
    },
    {
      "cell_type": "markdown",
      "metadata": {
        "id": "DwqtynLts9Mb"
      },
      "source": [
        "**Loading**"
      ]
    },
    {
      "cell_type": "code",
      "metadata": {
        "id": "e6-8QbAJsm9B"
      },
      "source": [
        "# Configure settings for RDS\n",
        "mode = \"append\"\n",
        "jdbc_url=\"jdbc:postgresql://ncaa-athletics.cr5bt5kg46tf.us-west-1.rds.amazonaws.com:5432/NCAA_Athletics\"\n",
        "config = {\"user\":\"postgres\", \n",
        "          \"password\": \"group1final\", \n",
        "          \"driver\":\"org.postgresql.Driver\"}"
      ],
      "execution_count": 9,
      "outputs": []
    },
    {
      "cell_type": "code",
      "metadata": {
        "id": "CfSriAMytYw9"
      },
      "source": [
        "# Writing NBA Stats table into RDS\n",
        "NBAstats.write.jdbc(url=jdbc_url, table='BballStats', mode=mode, properties=config)"
      ],
      "execution_count": null,
      "outputs": []
    },
    {
      "cell_type": "code",
      "metadata": {
        "id": "LCt_t0a8EmVT"
      },
      "source": [
        "# Writing NBA draft data into RDS\n",
        "NBAdraft.write.jdbc(url=jdbc_url, table='NBAdraft', mode=mode, properties=config)"
      ],
      "execution_count": null,
      "outputs": []
    },
    {
      "cell_type": "code",
      "metadata": {
        "id": "maxesCGcPzzE"
      },
      "source": [
        "# Writing Basketball data into RDS\n",
        "Basketball.write.jdbc(url=jdbc_url, table='Basketball', mode=mode, properties=config)"
      ],
      "execution_count": 11,
      "outputs": []
    },
    {
      "cell_type": "code",
      "metadata": {
        "id": "kM3uHjdPQUKR"
      },
      "source": [
        "# Writing NFL draft data into RDS\n",
        "NFL.write.jdbc(url=jdbc_url, table='NFL', mode=mode, properties=config)"
      ],
      "execution_count": null,
      "outputs": []
    },
    {
      "cell_type": "code",
      "metadata": {
        "id": "xLM68eBguP08"
      },
      "source": [
        "# Writing Schools table into RDS\n",
        "School_df.write.jdbc(url=jdbc_url, table='schools', mode=mode, properties=config)"
      ],
      "execution_count": null,
      "outputs": []
    },
    {
      "cell_type": "code",
      "metadata": {
        "id": "vwW3Dzfovf0Z"
      },
      "source": [
        "# Writing Football table into RDS\n",
        "Football.write.jdbc(url=jdbc_url, table='Football', mode=mode, properties=config)"
      ],
      "execution_count": 16,
      "outputs": []
    },
    {
      "cell_type": "code",
      "metadata": {
        "id": "5ebjnIeeRpHG"
      },
      "source": [
        ""
      ],
      "execution_count": null,
      "outputs": []
    }
  ]
}